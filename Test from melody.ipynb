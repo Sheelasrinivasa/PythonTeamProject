{
 "cells": [
  {
   "cell_type": "code",
   "execution_count": null,
   "metadata": {},
   "outputs": [],
   "source": [
    "# Dependencies\n",
    "import openweathermapy.core as owm\n",
    "\n",
    "#import api_key\n",
    "from config import api_key"
   ]
  },
  {
   "cell_type": "code",
   "execution_count": null,
   "metadata": {},
   "outputs": [],
   "source": [
    "# Create settings parameters\n",
    "settings = {\"units\": \"imperial\", \"APPID\": api_key}"
   ]
  },
  {
   "cell_type": "code",
   "execution_count": null,
   "metadata": {},
   "outputs": [],
   "source": [
    "# make the API call using owm's get_fourcast_hourly method\n",
    "forecast = owm.get_forecast_hourly(\"Phoenix, US\", **settings)\n",
    "forecast"
   ]
  },
  {
   "cell_type": "code",
   "execution_count": null,
   "metadata": {},
   "outputs": [],
   "source": [
    "# extract the date in text format and the temperature from each record\n",
    "# and save them in a list\n",
    "summary = [\"dt_txt\", \"main.temp\"]\n",
    "data = [hourly_forecast(*summary) for hourly_forecast in forecast]\n",
    "\n",
    "# format the printing of each record\n",
    "for hourly_forecast in data:\n",
    "    print(f\"{hourly_forecast[0]} | {hourly_forecast[1]} F\")"
   ]
  },
  {
   "cell_type": "code",
   "execution_count": null,
   "metadata": {},
   "outputs": [],
   "source": [
    "# BONUS 1\n",
    "# use owm's select method to select the desired data from\n",
    "# each record in the response\n",
    "\n",
    "selection = [\"dt_txt\", \"main.temp\"]\n",
    "data = forecast.select(selection)\n",
    "data"
   ]
  },
  {
   "cell_type": "code",
   "execution_count": null,
   "metadata": {},
   "outputs": [],
   "source": [
    "# print formatted results\n",
    "for hourly_forecast in data:\n",
    "    print(f\"{hourly_forecast[0]} | {hourly_forecast[1]} F\")"
   ]
  },
  {
   "cell_type": "code",
   "execution_count": null,
   "metadata": {},
   "outputs": [],
   "source": [
    "# BONUS 2\n",
    "import datetime\n",
    "import matplotlib.pyplot as plt\n",
    "from matplotlib.dates import DateFormatter\n",
    "\n",
    "# List for holding temperatures\n",
    "temps = []\n",
    "times = []\n",
    "\n",
    "# Display the weather with dates\n",
    "for record in data:\n",
    "    temps.append(record[1])\n",
    "    weather_date = datetime.datetime.strptime(record[0], \"%Y-%m-%d %H:%M:%S\")\n",
    "    times.append(weather_date)\n",
    "\n",
    "# Plot the temperatures over time\n",
    "plt.plot(times, temps)\n",
    "formatter = DateFormatter('%Y-%m-%d %H:%M:%S')\n",
    "plt.gcf().axes[0].xaxis.set_major_formatter(formatter)\n",
    "plt.gcf().autofmt_xdate()\n",
    "plt.show()"
   ]
  },
  {
   "cell_type": "code",
   "execution_count": null,
   "metadata": {},
   "outputs": [],
   "source": []
  },
  {
   "cell_type": "code",
   "execution_count": null,
   "metadata": {},
   "outputs": [],
   "source": []
  }
 ],
 "metadata": {
  "kernelspec": {
   "display_name": "Python [conda env:PythonData]",
   "language": "python",
   "name": "conda-env-PythonData-py"
  },
  "language_info": {
   "codemirror_mode": {
    "name": "ipython",
    "version": 3
   },
   "file_extension": ".py",
   "mimetype": "text/x-python",
   "name": "python",
   "nbconvert_exporter": "python",
   "pygments_lexer": "ipython3",
   "version": "3.6.4"
  }
 },
 "nbformat": 4,
 "nbformat_minor": 2
}
